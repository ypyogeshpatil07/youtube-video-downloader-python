{
 "cells": [
  {
   "cell_type": "code",
   "execution_count": 1,
   "id": "d2da9ab3",
   "metadata": {},
   "outputs": [
    {
     "name": "stdout",
     "output_type": "stream",
     "text": [
      "Collecting pytube\n",
      "  Downloading pytube-12.0.0-py3-none-any.whl (56 kB)\n",
      "Installing collected packages: pytube\n",
      "Successfully installed pytube-12.0.0\n",
      "Note: you may need to restart the kernel to use updated packages.\n"
     ]
    }
   ],
   "source": [
    "pip install pytube"
   ]
  },
  {
   "cell_type": "code",
   "execution_count": 1,
   "id": "df9ba346",
   "metadata": {},
   "outputs": [],
   "source": [
    "from tkinter import *\n",
    "from pytube import YouTube\n",
    "\n",
    "\n",
    "\n",
    "\n",
    "\n",
    "# to intialise tkinter which will be used for GUI\n",
    "root = Tk()\n",
    "\n",
    "\n",
    "# set the width and height of th window\n",
    "root.geometry('350x350')\n",
    "\n",
    "# give title to windows\n",
    "root.title('Youtube Downloader')\n",
    "\n",
    "# heading\n",
    "Label(root , text = 'You Tube Downloader' , font='arial 20 bold').pack(side = TOP)\n",
    "\n",
    "Label(root , text = 'Please enter the text' , font='arial 15').place(x=20,y=60)\n",
    "\n",
    "#tex varibale\n",
    "msg = StringVar()\n",
    "\n",
    "# entry field\n",
    "entry_field = Entry(root ,textvariable = msg, width ='50')\n",
    "entry_field.place(x = 20 , y = 100)\n",
    "\n",
    "# Button\n",
    "# Button\n",
    "def text_to_speech():\n",
    "    url = YouTube(str(entry_field.get()))\n",
    "    video = url.streams.first()\n",
    "    video.download()\n",
    "    Label(root , text = 'Downloaded' , font='arial 15').place(x=180,y=210)\n",
    "    \n",
    "def reset():\n",
    "    msg.set(\"\")\n",
    "    \n",
    "def exit():\n",
    "    root.destroy()\n",
    "\n",
    "\n",
    "Button(root, text='Download' , font = 'arial 15 bold', command = text_to_speech).place(x=25,y=140)\n",
    "# Button(root, text='EXIT' , font = 'arial 15 bold', command = exit).place(x=100,y=140) \n",
    "Button(root, text='RESET' , font = 'arial 15 bold', command = reset).place(x=175,y=140) \n",
    "# infinite loop to run program\n",
    "root.mainloop()"
   ]
  },
  {
   "cell_type": "code",
   "execution_count": null,
   "id": "015691e1",
   "metadata": {},
   "outputs": [],
   "source": []
  }
 ],
 "metadata": {
  "kernelspec": {
   "display_name": "Python 3 (ipykernel)",
   "language": "python",
   "name": "python3"
  },
  "language_info": {
   "codemirror_mode": {
    "name": "ipython",
    "version": 3
   },
   "file_extension": ".py",
   "mimetype": "text/x-python",
   "name": "python",
   "nbconvert_exporter": "python",
   "pygments_lexer": "ipython3",
   "version": "3.9.7"
  }
 },
 "nbformat": 4,
 "nbformat_minor": 5
}
